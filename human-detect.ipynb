import cv2
import yolov9
import numpy as np

def plot_one_box(xyxy, img, label=None, color=(255, 0, 0), line_thickness=3):
    tl = line_thickness or round(0.002 * (img.shape[0] + img.shape[1]) / 2) + 1 
    c1, c2 = (int(xyxy[0]), int(xyxy[1])), (int(xyxy[2]), int(xyxy[3]))
    cv2.rectangle(img, c1, c2, color, thickness=tl, lineType=cv2.LINE_AA)
    if label:
        tf = max(tl - 1, 1)  
        t_size = cv2.getTextSize(label, 0, fontScale=tl / 3, thickness=tf)[0]
        c2 = c1[0] + t_size[0], c1[1] - t_size[1] - 3
        cv2.rectangle(img, c1, c2, color, -1, cv2.LINE_AA) 
        cv2.putText(img, label, (c1[0], c1[1] - 2), 0, tl / 3, [225, 255, 255], thickness=tf, lineType=cv2.LINE_AA)
        
model = yolov9.load(
    "your/path/yolov9-c.pt",
    device="cuda:0",
)
model.conf = 0.25
model.iou = 0.45
model.classes = [0]  # Just using person classes
#print(model.names) # Also you can see other classes 

# İf you wanna choose video data, you can use this code
'''cap = cv2.VideoCapture("C:/Users/aakyilm/Downloads/vid2.mp4")
cv2.namedWindow('YOLOv9 Object Detection', cv2.WINDOW_NORMAL)
window_width, window_height = 800, 600
cv2.resizeWindow('YOLOv9 Object Detection', window_width, window_height)'''

cap = cv2.VideoCapture(0);
cv2.namedWindow('YOLOv9 Object Detection', cv2.WINDOW_NORMAL)
window_width, window_height = 800, 600
cv2.resizeWindow('YOLOv9 Object Detection', window_width, window_height)

while True:
    ret, frame = cap.read()
    if not ret:
        break

    results = model(frame)
    
    for *xyxy, conf, cls in results.xyxy[0]: 
        label = f'{model.names[int(cls)]} {conf:.2f}'
        plot_one_box(xyxy, frame, label=label, color=(255, 0, 0), line_thickness=2)

    frame_resized = cv2.resize(frame, (window_width, window_height))

    cv2.imshow('YOLOv9 Object Detection', frame_resized)

    if cv2.waitKey(1) & 0xFF == ord('q'):
        break

cap.release()
cv2.destroyAllWindows()
